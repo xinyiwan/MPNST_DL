{
 "cells": [
  {
   "cell_type": "code",
   "execution_count": 1,
   "metadata": {},
   "outputs": [
    {
     "name": "stderr",
     "output_type": "stream",
     "text": [
      "/trinity/home/xwan/MPNST_DL/venv/lib/python3.9/site-packages/tqdm/auto.py:21: TqdmWarning: IProgress not found. Please update jupyter and ipywidgets. See https://ipywidgets.readthedocs.io/en/stable/user_install.html\n",
      "  from .autonotebook import tqdm as notebook_tqdm\n"
     ]
    }
   ],
   "source": [
    "import sys\n",
    "sys.path.insert(1, '/trinity/home/xwan/MPNST_DL/working')\n",
    "from dataset import MPNSTDataMoule, MPNSTDataset\n",
    "from networks import spp\n",
    "from networks.resnet3d_spp import generate_model\n",
    "from torchsummary import summary\n",
    "import torch\n",
    "\n",
    "import math\n",
    "import numpy as np\n",
    "import torch\n",
    "import torch.nn as nn\n",
    "import torch.nn.functional as F\n"
   ]
  },
  {
   "cell_type": "code",
   "execution_count": 2,
   "metadata": {},
   "outputs": [],
   "source": [
    "model = generate_model(10)"
   ]
  },
  {
   "cell_type": "code",
   "execution_count": 11,
   "metadata": {},
   "outputs": [],
   "source": [
    "a = model(torch.rand(1, 512, 256, 80).unsqueeze_(0))\n",
    "b = model(torch.rand(1, 512, 512, 80).unsqueeze_(0))\n"
   ]
  },
  {
   "cell_type": "code",
   "execution_count": 13,
   "metadata": {},
   "outputs": [
    {
     "name": "stdout",
     "output_type": "stream",
     "text": [
      "torch.Size([1, 2])\n",
      "torch.Size([1, 2])\n"
     ]
    }
   ],
   "source": [
    "print(a.shape)\n",
    "print(b.shape)"
   ]
  },
  {
   "cell_type": "code",
   "execution_count": 9,
   "metadata": {},
   "outputs": [
    {
     "name": "stdout",
     "output_type": "stream",
     "text": [
      "==========================================================================================\n",
      "Layer (type:depth-idx)                   Output Shape              Param #\n",
      "==========================================================================================\n",
      "├─Conv3d: 1-1                            [-1, 64, 512, 128, 40]    21,952\n",
      "├─BatchNorm3d: 1-2                       [-1, 64, 512, 128, 40]    128\n",
      "├─ReLU: 1-3                              [-1, 64, 512, 128, 40]    --\n",
      "├─Sequential: 1-4                        [-1, 64, 512, 128, 40]    --\n",
      "|    └─BasicBlock: 2-1                   [-1, 64, 512, 128, 40]    --\n",
      "|    |    └─Conv3d: 3-1                  [-1, 64, 512, 128, 40]    110,592\n",
      "|    |    └─BatchNorm3d: 3-2             [-1, 64, 512, 128, 40]    128\n",
      "|    |    └─ReLU: 3-3                    [-1, 64, 512, 128, 40]    --\n",
      "|    |    └─Conv3d: 3-4                  [-1, 64, 512, 128, 40]    110,592\n",
      "|    |    └─BatchNorm3d: 3-5             [-1, 64, 512, 128, 40]    128\n",
      "|    |    └─ReLU: 3-6                    [-1, 64, 512, 128, 40]    --\n",
      "├─Sequential: 1-5                        [-1, 128, 256, 64, 20]    --\n",
      "|    └─BasicBlock: 2-2                   [-1, 128, 256, 64, 20]    --\n",
      "|    |    └─Conv3d: 3-7                  [-1, 128, 256, 64, 20]    221,184\n",
      "|    |    └─BatchNorm3d: 3-8             [-1, 128, 256, 64, 20]    256\n",
      "|    |    └─ReLU: 3-9                    [-1, 128, 256, 64, 20]    --\n",
      "|    |    └─Conv3d: 3-10                 [-1, 128, 256, 64, 20]    442,368\n",
      "|    |    └─BatchNorm3d: 3-11            [-1, 128, 256, 64, 20]    256\n",
      "|    |    └─Sequential: 3-12             [-1, 128, 256, 64, 20]    8,448\n",
      "|    |    └─ReLU: 3-13                   [-1, 128, 256, 64, 20]    --\n",
      "├─Sequential: 1-6                        [-1, 256, 128, 32, 10]    --\n",
      "|    └─BasicBlock: 2-3                   [-1, 256, 128, 32, 10]    --\n",
      "|    |    └─Conv3d: 3-14                 [-1, 256, 128, 32, 10]    884,736\n",
      "|    |    └─BatchNorm3d: 3-15            [-1, 256, 128, 32, 10]    512\n",
      "|    |    └─ReLU: 3-16                   [-1, 256, 128, 32, 10]    --\n",
      "|    |    └─Conv3d: 3-17                 [-1, 256, 128, 32, 10]    1,769,472\n",
      "|    |    └─BatchNorm3d: 3-18            [-1, 256, 128, 32, 10]    512\n",
      "|    |    └─Sequential: 3-19             [-1, 256, 128, 32, 10]    33,280\n",
      "|    |    └─ReLU: 3-20                   [-1, 256, 128, 32, 10]    --\n",
      "├─Sequential: 1-7                        [-1, 512, 64, 16, 5]      --\n",
      "|    └─BasicBlock: 2-4                   [-1, 512, 64, 16, 5]      --\n",
      "|    |    └─Conv3d: 3-21                 [-1, 512, 64, 16, 5]      3,538,944\n",
      "|    |    └─BatchNorm3d: 3-22            [-1, 512, 64, 16, 5]      1,024\n",
      "|    |    └─ReLU: 3-23                   [-1, 512, 64, 16, 5]      --\n",
      "|    |    └─Conv3d: 3-24                 [-1, 512, 64, 16, 5]      7,077,888\n",
      "|    |    └─BatchNorm3d: 3-25            [-1, 512, 64, 16, 5]      1,024\n",
      "|    |    └─Sequential: 3-26             [-1, 512, 64, 16, 5]      132,096\n",
      "|    |    └─ReLU: 3-27                   [-1, 512, 64, 16, 5]      --\n",
      "├─SPP3DLayer: 1-8                        [-1, 78336]               --\n",
      "├─Linear: 1-9                            [-1, 2]                   156,674\n",
      "==========================================================================================\n",
      "Total params: 14,512,194\n",
      "Trainable params: 14,512,194\n",
      "Non-trainable params: 0\n",
      "Total mult-adds (G): 1022.60\n",
      "==========================================================================================\n",
      "Input size (MB): 40.00\n",
      "Forward/backward pass size (MB): 10200.00\n",
      "Params size (MB): 55.36\n",
      "Estimated Total Size (MB): 10295.36\n",
      "==========================================================================================\n"
     ]
    },
    {
     "data": {
      "text/plain": [
       "==========================================================================================\n",
       "Layer (type:depth-idx)                   Output Shape              Param #\n",
       "==========================================================================================\n",
       "├─Conv3d: 1-1                            [-1, 64, 512, 128, 40]    21,952\n",
       "├─BatchNorm3d: 1-2                       [-1, 64, 512, 128, 40]    128\n",
       "├─ReLU: 1-3                              [-1, 64, 512, 128, 40]    --\n",
       "├─Sequential: 1-4                        [-1, 64, 512, 128, 40]    --\n",
       "|    └─BasicBlock: 2-1                   [-1, 64, 512, 128, 40]    --\n",
       "|    |    └─Conv3d: 3-1                  [-1, 64, 512, 128, 40]    110,592\n",
       "|    |    └─BatchNorm3d: 3-2             [-1, 64, 512, 128, 40]    128\n",
       "|    |    └─ReLU: 3-3                    [-1, 64, 512, 128, 40]    --\n",
       "|    |    └─Conv3d: 3-4                  [-1, 64, 512, 128, 40]    110,592\n",
       "|    |    └─BatchNorm3d: 3-5             [-1, 64, 512, 128, 40]    128\n",
       "|    |    └─ReLU: 3-6                    [-1, 64, 512, 128, 40]    --\n",
       "├─Sequential: 1-5                        [-1, 128, 256, 64, 20]    --\n",
       "|    └─BasicBlock: 2-2                   [-1, 128, 256, 64, 20]    --\n",
       "|    |    └─Conv3d: 3-7                  [-1, 128, 256, 64, 20]    221,184\n",
       "|    |    └─BatchNorm3d: 3-8             [-1, 128, 256, 64, 20]    256\n",
       "|    |    └─ReLU: 3-9                    [-1, 128, 256, 64, 20]    --\n",
       "|    |    └─Conv3d: 3-10                 [-1, 128, 256, 64, 20]    442,368\n",
       "|    |    └─BatchNorm3d: 3-11            [-1, 128, 256, 64, 20]    256\n",
       "|    |    └─Sequential: 3-12             [-1, 128, 256, 64, 20]    8,448\n",
       "|    |    └─ReLU: 3-13                   [-1, 128, 256, 64, 20]    --\n",
       "├─Sequential: 1-6                        [-1, 256, 128, 32, 10]    --\n",
       "|    └─BasicBlock: 2-3                   [-1, 256, 128, 32, 10]    --\n",
       "|    |    └─Conv3d: 3-14                 [-1, 256, 128, 32, 10]    884,736\n",
       "|    |    └─BatchNorm3d: 3-15            [-1, 256, 128, 32, 10]    512\n",
       "|    |    └─ReLU: 3-16                   [-1, 256, 128, 32, 10]    --\n",
       "|    |    └─Conv3d: 3-17                 [-1, 256, 128, 32, 10]    1,769,472\n",
       "|    |    └─BatchNorm3d: 3-18            [-1, 256, 128, 32, 10]    512\n",
       "|    |    └─Sequential: 3-19             [-1, 256, 128, 32, 10]    33,280\n",
       "|    |    └─ReLU: 3-20                   [-1, 256, 128, 32, 10]    --\n",
       "├─Sequential: 1-7                        [-1, 512, 64, 16, 5]      --\n",
       "|    └─BasicBlock: 2-4                   [-1, 512, 64, 16, 5]      --\n",
       "|    |    └─Conv3d: 3-21                 [-1, 512, 64, 16, 5]      3,538,944\n",
       "|    |    └─BatchNorm3d: 3-22            [-1, 512, 64, 16, 5]      1,024\n",
       "|    |    └─ReLU: 3-23                   [-1, 512, 64, 16, 5]      --\n",
       "|    |    └─Conv3d: 3-24                 [-1, 512, 64, 16, 5]      7,077,888\n",
       "|    |    └─BatchNorm3d: 3-25            [-1, 512, 64, 16, 5]      1,024\n",
       "|    |    └─Sequential: 3-26             [-1, 512, 64, 16, 5]      132,096\n",
       "|    |    └─ReLU: 3-27                   [-1, 512, 64, 16, 5]      --\n",
       "├─SPP3DLayer: 1-8                        [-1, 78336]               --\n",
       "├─Linear: 1-9                            [-1, 2]                   156,674\n",
       "==========================================================================================\n",
       "Total params: 14,512,194\n",
       "Trainable params: 14,512,194\n",
       "Non-trainable params: 0\n",
       "Total mult-adds (G): 1022.60\n",
       "==========================================================================================\n",
       "Input size (MB): 40.00\n",
       "Forward/backward pass size (MB): 10200.00\n",
       "Params size (MB): 55.36\n",
       "Estimated Total Size (MB): 10295.36\n",
       "=========================================================================================="
      ]
     },
     "execution_count": 9,
     "metadata": {},
     "output_type": "execute_result"
    }
   ],
   "source": [
    "summary(model, torch.rand(1, 512, 256, 80).unsqueeze_(0))"
   ]
  },
  {
   "cell_type": "code",
   "execution_count": 5,
   "metadata": {},
   "outputs": [],
   "source": [
    "def get_inplanes():\n",
    "    return [64, 128, 256, 512]\n",
    "\n",
    "\n",
    "def conv3x3x3(in_planes, out_planes, stride=1):\n",
    "    return nn.Conv3d(in_planes,\n",
    "                    out_planes,\n",
    "                    kernel_size=3,\n",
    "                    stride=stride,\n",
    "                    padding=1,\n",
    "                    bias=False)\n",
    "\n",
    "\n",
    "def conv1x1x1(in_planes, out_planes, stride=1):\n",
    "    return nn.Conv3d(in_planes,\n",
    "                    out_planes,\n",
    "                    kernel_size=1,\n",
    "                    stride=stride,\n",
    "                    bias=False)"
   ]
  },
  {
   "cell_type": "code",
   "execution_count": 6,
   "metadata": {},
   "outputs": [],
   "source": [
    "from networks.resnet3d_spp import BasicBlock, Bottleneck\n",
    "from networks.spp import SPP3DLayer\n",
    "\n",
    "def _make_layer(block, planes, blocks, in_planes, stride=1):\n",
    "        downsample = None\n",
    "        if stride != 1 or in_planes != planes * block.expansion:\n",
    "            downsample = nn.Sequential(\n",
    "                conv1x1x1(in_planes, planes * block.expansion, stride),\n",
    "                nn.BatchNorm3d(planes * block.expansion)\n",
    "            )\n",
    "        layers = []\n",
    "        layers.append(\n",
    "            block(in_planes=in_planes,\n",
    "                  planes=planes,\n",
    "                  stride=stride,\n",
    "                  downsample=downsample))\n",
    "        in_planes = planes * block.expansion\n",
    "        for i in range (1, blocks):\n",
    "            layers.append(block(in_planes, planes))\n",
    "        \n",
    "        return nn.Sequential(*layers)"
   ]
  },
  {
   "cell_type": "code",
   "execution_count": 7,
   "metadata": {},
   "outputs": [
    {
     "data": {
      "text/plain": [
       "[64, 128, 256, 512]"
      ]
     },
     "execution_count": 7,
     "metadata": {},
     "output_type": "execute_result"
    }
   ],
   "source": [
    "block_inplanes = [int(x * 1.0) for x in get_inplanes()]\n",
    "block_inplanes"
   ]
  },
  {
   "cell_type": "code",
   "execution_count": 38,
   "metadata": {},
   "outputs": [],
   "source": [
    "n_input_channels = 1\n",
    "conv1_t_size = 7\n",
    "conv1_t_stride = 2\n",
    "scales = [3, 1]\n",
    "layers = [1, 1, 1, 1]\n",
    "n_classes = 2"
   ]
  },
  {
   "cell_type": "code",
   "execution_count": 39,
   "metadata": {},
   "outputs": [],
   "source": [
    "in_planes = block_inplanes[0]\n",
    "conv1 = nn.Conv3d(n_input_channels, \n",
    "                        in_planes,\n",
    "                        kernel_size=(conv1_t_size, 7, 7),\n",
    "                        stride=(conv1_t_stride, 2, 2),\n",
    "                        padding=(conv1_t_size // 2, 3, 3),\n",
    "                        bias=False)\n",
    "bn1 = nn.BatchNorm3d(in_planes)\n",
    "relu = nn.ReLU(inplace=True)\n",
    "maxpool = nn.MaxPool3d(kernel_size=3, stride=2, padding=1)\n",
    "block = BasicBlock\n",
    "layer1 = _make_layer(BasicBlock, block_inplanes[0], layers[0], in_planes=in_planes)\n",
    "in_planes = block_inplanes[0]\n",
    "\n",
    "layer2 = _make_layer(BasicBlock, block_inplanes[1], layers[1], in_planes=in_planes, stride=2)\n",
    "in_planes = block_inplanes[1]\n",
    "\n",
    "layer3 = _make_layer(BasicBlock, block_inplanes[2], layers[2], in_planes=in_planes, stride=2)\n",
    "in_planes = block_inplanes[2]\n",
    "\n",
    "layer4 = _make_layer(BasicBlock, block_inplanes[3], layers[3], in_planes=in_planes, stride=2)\n",
    "in_planes = block_inplanes[3]\n",
    "\n",
    "spp = SPP3DLayer(scales)\n",
    "linear = nn.Linear(block_inplanes[3]*sum([x**3 for x in scales]), n_classes)"
   ]
  },
  {
   "cell_type": "code",
   "execution_count": 40,
   "metadata": {},
   "outputs": [],
   "source": [
    "test_data = torch.rand(1, 512, 512, 512)\n",
    "test = test_data.unsqueeze_(0)"
   ]
  },
  {
   "cell_type": "code",
   "execution_count": 41,
   "metadata": {},
   "outputs": [
    {
     "name": "stdout",
     "output_type": "stream",
     "text": [
      "torch.Size([1, 1, 512, 512, 512])\n",
      "torch.Size([1, 64, 256, 256, 256])\n",
      "torch.Size([1, 64, 256, 256, 256])\n",
      "torch.Size([1, 64, 128, 128, 128])\n"
     ]
    }
   ],
   "source": [
    "test\n",
    "print(test.shape)\n",
    "\n",
    "x = conv1(test)\n",
    "print(x.shape)\n",
    "\n",
    "x = bn1(x)\n",
    "print(x.shape)\n",
    "\n",
    "x = relu(x)\n",
    "x = maxpool(x)\n",
    "print(x.shape)"
   ]
  },
  {
   "cell_type": "code",
   "execution_count": 42,
   "metadata": {},
   "outputs": [
    {
     "name": "stdout",
     "output_type": "stream",
     "text": [
      "torch.Size([1, 64, 128, 128, 128])\n"
     ]
    }
   ],
   "source": [
    "x = layer1(x)\n",
    "print(x.shape)\n"
   ]
  },
  {
   "cell_type": "code",
   "execution_count": 43,
   "metadata": {},
   "outputs": [
    {
     "name": "stdout",
     "output_type": "stream",
     "text": [
      "torch.Size([1, 128, 64, 64, 64])\n"
     ]
    }
   ],
   "source": [
    "x = layer2(x)\n",
    "print(x.shape)\n"
   ]
  },
  {
   "cell_type": "code",
   "execution_count": 44,
   "metadata": {},
   "outputs": [
    {
     "name": "stdout",
     "output_type": "stream",
     "text": [
      "torch.Size([1, 256, 32, 32, 32])\n"
     ]
    }
   ],
   "source": [
    "x = layer3(x)\n",
    "print(x.shape)\n"
   ]
  },
  {
   "cell_type": "code",
   "execution_count": 45,
   "metadata": {},
   "outputs": [
    {
     "name": "stdout",
     "output_type": "stream",
     "text": [
      "torch.Size([1, 512, 16, 16, 16])\n"
     ]
    }
   ],
   "source": [
    "x = layer4(x)\n",
    "print(x.shape)\n"
   ]
  },
  {
   "cell_type": "code",
   "execution_count": 50,
   "metadata": {},
   "outputs": [
    {
     "data": {
      "text/plain": [
       "torch.Size([1, 512, 16, 16, 16])"
      ]
     },
     "execution_count": 50,
     "metadata": {},
     "output_type": "execute_result"
    }
   ],
   "source": [
    "x.shape"
   ]
  },
  {
   "cell_type": "code",
   "execution_count": 47,
   "metadata": {},
   "outputs": [
    {
     "name": "stdout",
     "output_type": "stream",
     "text": [
      "torch.Size([1, 512, 3, 3, 3])\n",
      "torch.Size([1, 13824])\n",
      "torch.Size([1, 512, 1, 1, 1])\n",
      "torch.Size([1, 512])\n"
     ]
    }
   ],
   "source": [
    "batch_size, in_channel, in_h, in_w, in_t = x.size()\n",
    "scale_list = scales\n",
    "for i in range(len(scale_list)):\n",
    "    h_wid = int(math.ceil(in_h / scale_list[i]))\n",
    "    w_wid = int(math.ceil(in_w / scale_list[i]))\n",
    "    t_wid = int(math.ceil(in_t / scale_list[i]))\n",
    "    h_pad = int((h_wid*scale_list[i] - in_h + 1)/2)\n",
    "    w_pad = int((w_wid*scale_list[i] - in_w + 1)/2)\n",
    "    t_pad = int((t_wid*scale_list[i] - in_t + 1)/2)\n",
    "    maxpool = nn.MaxPool3d((h_wid, w_wid, t_wid), stride=(h_wid, w_wid, t_wid), padding=(h_pad, w_pad, t_pad))\n",
    "    out = maxpool(x)\n",
    "    print(out.shape)\n",
    "    print(out.view(batch_size, -1).shape)\n",
    "    if(i == 0):\n",
    "        spp = out.view(batch_size, -1)\n",
    "    else:\n",
    "        spp = torch.cat((spp, out.view(batch_size, -1)), 1)"
   ]
  },
  {
   "cell_type": "code",
   "execution_count": 51,
   "metadata": {},
   "outputs": [
    {
     "data": {
      "text/plain": [
       "torch.Size([1, 14336])"
      ]
     },
     "execution_count": 51,
     "metadata": {},
     "output_type": "execute_result"
    }
   ],
   "source": [
    "spp.shape"
   ]
  },
  {
   "cell_type": "code",
   "execution_count": 48,
   "metadata": {},
   "outputs": [
    {
     "data": {
      "text/plain": [
       "Linear(in_features=14336, out_features=2, bias=True)"
      ]
     },
     "execution_count": 48,
     "metadata": {},
     "output_type": "execute_result"
    }
   ],
   "source": [
    "linear"
   ]
  },
  {
   "cell_type": "code",
   "execution_count": 36,
   "metadata": {},
   "outputs": [
    {
     "data": {
      "text/plain": [
       "Linear(in_features=14336, out_features=2, bias=True)"
      ]
     },
     "execution_count": 36,
     "metadata": {},
     "output_type": "execute_result"
    }
   ],
   "source": [
    "linear"
   ]
  },
  {
   "cell_type": "code",
   "execution_count": 52,
   "metadata": {},
   "outputs": [
    {
     "data": {
      "text/plain": [
       "torch.Size([1, 2])"
      ]
     },
     "execution_count": 52,
     "metadata": {},
     "output_type": "execute_result"
    }
   ],
   "source": [
    "x_o = linear(spp)\n",
    "x_o.shape"
   ]
  },
  {
   "cell_type": "code",
   "execution_count": 16,
   "metadata": {},
   "outputs": [
    {
     "name": "stdout",
     "output_type": "stream",
     "text": [
      "torch.Size([1, 512, 16, 16, 16])\n"
     ]
    }
   ],
   "source": [
    "batch_size, in_channel, in_h, in_w, in_t = x.size()\n",
    "print(x.size())"
   ]
  },
  {
   "cell_type": "code",
   "execution_count": 96,
   "metadata": {},
   "outputs": [],
   "source": [
    "scale_list = [3, 1]\n",
    "i = 0"
   ]
  },
  {
   "cell_type": "code",
   "execution_count": 97,
   "metadata": {},
   "outputs": [
    {
     "data": {
      "text/plain": [
       "MaxPool3d(kernel_size=(6, 6, 6), stride=(6, 6, 6), padding=(1, 1, 1), dilation=1, ceil_mode=False)"
      ]
     },
     "execution_count": 97,
     "metadata": {},
     "output_type": "execute_result"
    }
   ],
   "source": [
    "h_wid = int(math.ceil(in_h / scale_list[i]))\n",
    "w_wid = int(math.ceil(in_w / scale_list[i]))\n",
    "t_wid = int(math.ceil(in_t / scale_list[i]))\n",
    "h_pad = int((h_wid*scale_list[i] - in_h + 1)/2)\n",
    "w_pad = int((w_wid*scale_list[i] - in_w + 1)/2)\n",
    "t_pad = int((t_wid*scale_list[i] - in_t + 1)/2)\n",
    "maxpool = nn.MaxPool3d((h_wid, w_wid, t_wid), stride=(h_wid, w_wid, t_wid), padding=(h_pad, w_pad, t_pad), )\n",
    "maxpool"
   ]
  },
  {
   "cell_type": "code",
   "execution_count": 98,
   "metadata": {},
   "outputs": [
    {
     "name": "stdout",
     "output_type": "stream",
     "text": [
      "torch.Size([1, 512, 3, 3, 3])\n"
     ]
    }
   ],
   "source": [
    "out = maxpool(x)\n",
    "print(out.shape)"
   ]
  },
  {
   "cell_type": "code",
   "execution_count": 99,
   "metadata": {},
   "outputs": [
    {
     "name": "stdout",
     "output_type": "stream",
     "text": [
      "torch.Size([1, 13824])\n"
     ]
    }
   ],
   "source": [
    "spp = out.view(batch_size, -1)\n",
    "print(spp.shape)"
   ]
  },
  {
   "cell_type": "code",
   "execution_count": 100,
   "metadata": {},
   "outputs": [
    {
     "data": {
      "text/plain": [
       "MaxPool3d(kernel_size=(17, 17, 17), stride=(17, 17, 17), padding=(0, 0, 0), dilation=1, ceil_mode=False)"
      ]
     },
     "execution_count": 100,
     "metadata": {},
     "output_type": "execute_result"
    }
   ],
   "source": [
    "i = 1\n",
    "h_wid = int(math.ceil(in_h / scale_list[i]))\n",
    "w_wid = int(math.ceil(in_w / scale_list[i]))\n",
    "t_wid = int(math.ceil(in_t / scale_list[i]))\n",
    "h_pad = int((h_wid*scale_list[i] - in_h + 1)/2)\n",
    "w_pad = int((w_wid*scale_list[i] - in_w + 1)/2)\n",
    "t_pad = int((t_wid*scale_list[i] - in_t + 1)/2)\n",
    "maxpool_1 = nn.MaxPool3d((h_wid, w_wid, t_wid), stride=(h_wid, w_wid, t_wid), padding=(h_pad, w_pad, t_pad), )\n",
    "maxpool_1"
   ]
  },
  {
   "cell_type": "code",
   "execution_count": 101,
   "metadata": {},
   "outputs": [
    {
     "name": "stdout",
     "output_type": "stream",
     "text": [
      "torch.Size([1, 512, 1, 1, 1])\n"
     ]
    }
   ],
   "source": [
    "out_1 = maxpool_1(x)\n",
    "print(out_1.shape)"
   ]
  },
  {
   "cell_type": "code",
   "execution_count": 102,
   "metadata": {},
   "outputs": [],
   "source": [
    "spp = torch.cat((spp, out.view(batch_size, -1)), 1)"
   ]
  },
  {
   "cell_type": "code",
   "execution_count": 103,
   "metadata": {},
   "outputs": [
    {
     "data": {
      "text/plain": [
       "torch.Size([1, 27648])"
      ]
     },
     "execution_count": 103,
     "metadata": {},
     "output_type": "execute_result"
    }
   ],
   "source": [
    "spp.shape"
   ]
  },
  {
   "cell_type": "code",
   "execution_count": null,
   "metadata": {},
   "outputs": [],
   "source": []
  }
 ],
 "metadata": {
  "kernelspec": {
   "display_name": "venv",
   "language": "python",
   "name": "python3"
  },
  "language_info": {
   "codemirror_mode": {
    "name": "ipython",
    "version": 3
   },
   "file_extension": ".py",
   "mimetype": "text/x-python",
   "name": "python",
   "nbconvert_exporter": "python",
   "pygments_lexer": "ipython3",
   "version": "3.9.5"
  }
 },
 "nbformat": 4,
 "nbformat_minor": 2
}
